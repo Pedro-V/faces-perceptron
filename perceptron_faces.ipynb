{
 "cells": [
  {
   "cell_type": "markdown",
   "metadata": {
    "id": "AwWZFvRqduUZ"
   },
   "source": [
    "# Avaliação 2 da disciplina Álgebra Linear Computacional\n",
    "\n",
    "* Turma 01 - 2022.1 - Universidade Federal de Sergipe\n",
    "* Professor: Evilson da Silva Vieira\n",
    "\n",
    "Membros do grupo - Matrícula:\n",
    "\n",
    "* Pedro Vinícius de Araújo Barreto - 202100011815"
   ]
  },
  {
   "cell_type": "markdown",
   "metadata": {
    "id": "yD4KE2eo9thZ"
   },
   "source": [
    "## Introdução\n",
    "\n",
    "A Álgebra Linear Computacional tem aplicações em vários cenários de importância científica. Aqui, buscamos construir um perceptron que, a partir de imagens de treinamento, possa classificar imagens não vistas anteriormente como tratando-se de um homem ou uma mulher. \n",
    "\n",
    "Para isso, fazemos uso das seguintes técnicas:\n",
    "\n",
    "* Fatoração QR <br>\n",
    "* Método dos Mínimos Quadrados <br>\n",
    "* Decomposição em Valores Singulares"
   ]
  },
  {
   "cell_type": "markdown",
   "metadata": {
    "id": "fMZJOn_uDHXb"
   },
   "source": [
    "## Carregamento dos dados\n",
    "\n",
    "Importaremos o dataset que consiste de 200 imagens cinzas de homens e mulheres sérios ou sorrindo. Após movermos essas imagens para um diretório dedicado, precisamos converter essas imagens em informação numérica.\n",
    "\n",
    "Cada imagem pode ser vista como um array de $193 * 162$ inteiros de 0 a 255. A partir disso, montaremos uma matriz de $A_{200 \\times 31266}$.\n",
    "\n",
    "Para ler uma imagem como uma array, usaremos a função `skimage.io`, que permite o Input/Output de imagens como arrays numéricas. Para lidar com arrays e matrizes de maneira geral, usaremos a biblioteca `numpy`."
   ]
  },
  {
   "cell_type": "code",
   "execution_count": null,
   "metadata": {
    "id": "C-SnNpsWeWpY"
   },
   "outputs": [],
   "source": [
    "# Primeiro importamos os dados/imagens e movemos para um diretório dedicado\n",
    "!ls imagens || wget https://fei.edu.br/~cet/frontalimages_spatiallynormalized_cropped_equalized_part1.zip\n",
    "!mkdir imagens && unzip frontalimages_spatiallynormalized_cropped_equalized_part1.zip\n",
    "!rm frontalimages_spatiallynormalized_cropped_equalized_part1.zip && mv *.jpg imagens"
   ]
  },
  {
   "cell_type": "code",
   "execution_count": null,
   "metadata": {
    "id": "gq2TMEVghBFZ"
   },
   "outputs": [],
   "source": [
    "# Bibliotecas\n",
    "import numpy as np\n",
    "import numpy.linalg as la\n",
    "from skimage import io\n",
    "from sklearn.decomposition import TruncatedSVD\n",
    "import matplotlib.pyplot as plt"
   ]
  },
  {
   "cell_type": "code",
   "execution_count": null,
   "metadata": {
    "id": "1xVOI6Kghq_z"
   },
   "outputs": [],
   "source": [
    "# Matriz que conterá as imagens\n",
    "A = np.zeros(shape=(200, 193*162), dtype='uint8')"
   ]
  },
  {
   "cell_type": "code",
   "execution_count": null,
   "metadata": {
    "colab": {
     "base_uri": "https://localhost:8080/"
    },
    "id": "GjDO8haLhNwA",
    "outputId": "8dbc875b-3ee1-4857-ec40-0cd14f616537"
   },
   "outputs": [
    {
     "data": {
      "text/plain": [
       "(200, 31266)"
      ]
     },
     "execution_count": 71,
     "metadata": {},
     "output_type": "execute_result"
    }
   ],
   "source": [
    "# Lemos cada imagem no diretório e colocamos nas linhas de A\n",
    "for i in range(1, 101):\n",
    "    col = i*2 - 1\n",
    "    A[col - 1, :] = io.imread(f'./imagens/{i}a.jpg').reshape(-1)\n",
    "    A[col, :] = io.imread(f'./imagens/{i}b.jpg').reshape(-1)\n",
    "\n",
    "A.shape"
   ]
  },
  {
   "cell_type": "markdown",
   "metadata": {
    "id": "oBsO820U-YTY"
   },
   "source": [
    "## Redução de dimensionalidade para uma matriz $200 \\times 2$ usando SVD truncado\n",
    "\n",
    "Lembremos que a decomposição SVD de uma matriz se trata de decompor ela como um produto das matrizes: \n",
    "- $V$, que é a matriz de mudança de base da base $γ_1$ de autovetores (que é ortonormal) para a base canônica;\n",
    "- $S$, que é uma matriz que contêm até o $r$-ésimo valor singular de A em sua diagonal, e o resto são zeros. Veja que aqui $r$ é o posto de $A$;\n",
    "- $U^t$, que é uma matriz de mudança de base da canônica para a base $γ_2$ de autovetores, que é ortonormal também.\n",
    "\n",
    "Se $VSU^t$ é a decomposição SVD de $A$, podemos fazer uma decomposição truncada :\n",
    "$$\n",
    "A_2 = V_2 \\cdot S_2\n",
    "$$\n",
    "\n",
    "na qual $V_2$ são as 2 primeiras colunas de $V$ e $S_2$ são as primeiras \n",
    "2 linhas e 2 colunas de $S$ (Ou seja, conterá os dois primeiros valores singulares $σ_1$ e $σ_2$).\n",
    "\n",
    "Essa decomposição truncada é obtida usando a classe `sklearn.decomposition.TruncatedSVD`."
   ]
  },
  {
   "cell_type": "code",
   "execution_count": null,
   "metadata": {
    "colab": {
     "base_uri": "https://localhost:8080/"
    },
    "id": "W5DrWNhVlcfa",
    "outputId": "3209c5b9-ddd7-4d95-c582-e0f7b73da4c8"
   },
   "outputs": [
    {
     "data": {
      "text/plain": [
       "(200, 2)"
      ]
     },
     "execution_count": 57,
     "metadata": {},
     "output_type": "execute_result"
    }
   ],
   "source": [
    "svd = TruncatedSVD(n_components=2)\n",
    "A_2 = svd.fit_transform(A)\n",
    "A_2.shape"
   ]
  },
  {
   "cell_type": "markdown",
   "metadata": {
    "id": "iN7HznfC-0RU"
   },
   "source": [
    "Para relizar o treinamento do nosso perceptron, precisamos alimentá-lo com dados de treinamento para que assim possa ocorre algum aprendizado. Foi orientado pelo professor a escolher 40 das 200 imagens inicialmente disponibilizadas.\n",
    "\n",
    "Resolvemos escolher de maneira igualitária 20 imagens de homens e 20 de mulheres. Como o dataset contém 100 indivíduos, e para cada indivíduo existe uma foto \"séria\" e outra foto sorrindo, escolhemos 10 indivíduos de cada sexo."
   ]
  },
  {
   "cell_type": "code",
   "execution_count": null,
   "metadata": {
    "id": "yyLrIF0xoodw"
   },
   "outputs": [],
   "source": [
    "# Escolher 10 homens e 10 mulheres para treinamento \n",
    "indice_homens = [0, 1, 4, 5, 10, 11, 16, 17, 18, 19, 112, 113, 102, 103, 74, 75, 140, 141, 188, 189]\n",
    "indice_mulheres = [20, 21, 192, 193, 190, 191, 100, 101, 118, 119, 114, 115, 72, 73, 84, 85, 154, 155, 54, 55]\n",
    "\n",
    "# H_t contém 20 imagens de homens, M_t contém 20 imagens de mulher\n",
    "H_t = A_2[indice_homens, :]\n",
    "M_t = A_2[indice_mulheres, :]\n",
    "\n",
    "indices_deletar = indice_homens + indice_mulheres"
   ]
  },
  {
   "cell_type": "code",
   "execution_count": null,
   "metadata": {
    "colab": {
     "base_uri": "https://localhost:8080/"
    },
    "id": "sjunWc6ZvesK",
    "outputId": "c0550165-cf57-4bf8-f10e-2831aab9d39e"
   },
   "outputs": [
    {
     "data": {
      "text/plain": [
       "(160, 2)"
      ]
     },
     "execution_count": 60,
     "metadata": {},
     "output_type": "execute_result"
    }
   ],
   "source": [
    "# Deletar os dados que foram obtidos para treinamento da matriz original\n",
    "# A_2 agora tem 160 imagens. Ou seja, dados não vistos anteriormente!\n",
    "A_2 = np.delete(A_2, indices_deletar, 0)\n",
    "A_2.shape"
   ]
  },
  {
   "cell_type": "markdown",
   "metadata": {
    "id": "JbhOwqG1_kp8"
   },
   "source": [
    "## Método dos Mínimos Quadrados junto com a fatoração QR\n",
    "\n",
    "Agora que conseguimos realizar uma redução de dimensionalidade sobre A, buscaremos construir um sistema da forma $T \\cdot x = C$, onde:\n",
    "\n",
    "* $T_{40 × 3}$ é uma matriz contendo os 40 dados selecionados para treinamento. As 20 primeiras linhas são homens e as 20 últimas são mulheres ;\n",
    "* $x_{3 \\times 1}$ é uma matriz que contém os coeficientes $a$, $b$ e $c$ ;\n",
    "* $C_{40 × 1}$ é uma matriz correspondendo a -1 para as 20 primeiras linhas (homens) e 1 para as 20 últimas (mulheres).\n",
    "\n",
    "Após a construção desse sistema, queremos achar os melhores coeficientes\n",
    "$a$, $b$ e $c$ para a função $f$ tais que:\n",
    "$$\n",
    "f(x, y) = ax + by + c\n",
    "$$\n",
    "e $f(x, y) = -1$ se $x$ e $y$ forem dados da imagem de um homem e $f(x, y) = 1$ caso forem dados da imagem de uma mulher.\n",
    "\n",
    "Esse sistema, em seu estado atual, não tem solução. Buscaremos achar uma solução ótima."
   ]
  },
  {
   "cell_type": "code",
   "execution_count": null,
   "metadata": {
    "id": "aLu23ahYxZC5"
   },
   "outputs": [],
   "source": [
    "# Uma matriz 40x1 que representa o bias/viés\n",
    "B = np.ones(shape=(40, 1), dtype='uint8')\n",
    "\n",
    "# Unificamos H_t e M_t numa matriz de treinamento T\n",
    "T = np.vstack([H_t, M_t])\n",
    "T = np.hstack([T, B])\n",
    "\n",
    "# Associamos cada linha da matriz de treinamento T com -1 (homens) ou 1 (mulheres)\n",
    "C = np.zeros(shape=(40, 1))\n",
    "C[:20, :] = -1\n",
    "C[20:40, :] = 1"
   ]
  },
  {
   "cell_type": "markdown",
   "metadata": {
    "id": "jGzCcobK8esQ"
   },
   "source": [
    "Aplicamos o método dos mínimos quadrados em conjunto com a fatoração QR para obter uma solução otimizada pro sistema.\n",
    "\n",
    "Vimos em aula que num sistema $A \\cdot x = b$, a solução pelos mínimos quadrados pode ser obtido ao multiplicar a equação à esquerda pela transposta de $A$: \n",
    "$$\n",
    "A^t \\cdot A \\cdot x = A^t \\cdot b\n",
    "$$\n",
    "Se fatorarmos $A_{}$ como produto de uma matriz $Q_{m \\times n}$ ortonormal e uma matriz de mudança de base da base de $Q$ para a base de $A$ chamada $R$, podemos desenvolver e chegar a seguinte expressão:\n",
    "$$\n",
    "(QR)^t ⋅ QR ⋅ x = (QR)^t ⋅ b\n",
    "$$\n",
    "<br>\n",
    "$$\n",
    "R^tQ^tQRx = R^tQ^tb\n",
    "$$\n",
    "como $Q$ é ortogonal, $Q^t = Q^{-1}$\n",
    "$$\n",
    "R^tRx = R^tQ^tb\n",
    "$$\n",
    "<br>\n",
    "$$\n",
    "(R^t)^{-1}R^tRx = (R^t)^{-1}R^tQ^tb\n",
    "$$\n",
    "<br>\n",
    "$$\n",
    "R \\cdot x = Q^t \\cdot b\n",
    "$$\n",
    "Esse sistema, sim, tem solução."
   ]
  },
  {
   "cell_type": "markdown",
   "metadata": {
    "id": "HSlTpOHmevT9"
   },
   "source": [
    "$$\n",
    "\\\n",
    "$$"
   ]
  },
  {
   "cell_type": "code",
   "execution_count": null,
   "metadata": {
    "colab": {
     "base_uri": "https://localhost:8080/"
    },
    "id": "qPiEQ9mNvxLJ",
    "outputId": "d4b45cc4-ac27-49e9-81d3-d276c26def74"
   },
   "outputs": [
    {
     "name": "stdout",
     "output_type": "stream",
     "text": [
      "[0.00092046] [0.00010507] [-23.1023976]\n",
      "[[ 9.20455344e-04]\n",
      " [ 1.05067942e-04]\n",
      " [-2.31023976e+01]]\n"
     ]
    }
   ],
   "source": [
    "Q, R = la.qr(T)\n",
    "\n",
    "S = la.solve(R, np.transpose(Q) @ C)\n",
    "a, b, c = S\n",
    "print(a, b, c)\n",
    "\n",
    "# Perceba que isso é equivalente à rotina de mínimos quadrados já existente na biblioteca Numpy:\n",
    "print(la.lstsq(T, C, rcond=0)[0])"
   ]
  },
  {
   "cell_type": "markdown",
   "metadata": {
    "id": "QomxjIJr8O-y"
   },
   "source": [
    "## Visualização e discussão dos resultados\n",
    "\n",
    "Aplicamos, então, a matriz solução $S$ no nosso conjunto de dados.\n",
    "Para isso, extendemos $A_2$ com uma terceira coluna de 1s (será o nosso _bias_/viés). Isso será a matriz $N_{160 \\times 3}$"
   ]
  },
  {
   "cell_type": "code",
   "execution_count": null,
   "metadata": {
    "id": "68rmg6553s7H"
   },
   "outputs": [],
   "source": [
    "N = np.hstack([A_2, np.ones((160, 1))])\n",
    "N = N @ S"
   ]
  },
  {
   "cell_type": "markdown",
   "metadata": {
    "id": "u9yZG_hnD8wh"
   },
   "source": [
    "Visualizando esses resultados, vemos que fazendo uso dos coeficientes obtidos para $f$, o perceptron conseguiu fazer uma divisão clara da grande maioria dos dados.\n",
    "\n",
    "Veja também que, para dados muito próximos da reta, o perceptron pode ter tido algum erro. Provavelmente se trata daquelas imagens que abrem mais espaço para ambiguidade e interpretação, atributos dos quais o perceptron não toma decisão sobre. Ele é apenas um modelo matemático de classificação, e apenas isso.\n",
    "\n",
    "O perceptron serviu de base para o campo do aprendizado profundo, que se dedica às técnicas de aprendizado de máquina que fazem forte uso de Redes Neurais. Apesar de simples, vemos abaixo que ele ainda tem um poder classificatório considerável."
   ]
  },
  {
   "cell_type": "code",
   "execution_count": null,
   "metadata": {
    "colab": {
     "base_uri": "https://localhost:8080/",
     "height": 265
    },
    "id": "xZ-717AN2u5V",
    "outputId": "793be5a7-4403-4ebf-df48-89823f9ca5be"
   },
   "outputs": [
    {
     "data": {
      "image/png": "[encoded data removed]",
      "text/plain": [
       "<Figure size 432x288 with 1 Axes>"
      ]
     },
     "metadata": {
      "needs_background": "light"
     },
     "output_type": "display_data"
    }
   ],
   "source": [
    "# Podemos ver o resultado dessa classificação simples visualmente:\n",
    "col = np.where(N < 0, 'b', '#ff4500').reshape(-1)\n",
    "\n",
    "plt.scatter(A_2[:,0], A_2[:,1], c=col, s=45)\n",
    "\n",
    "plt.plot(A_2[:, 0], -(a*A_2[:, 0] + c) / b, 'r')\n",
    "\n",
    "# Pontos laranjas são as mulheres e pontos azuis são os homens.\n",
    "plt.show()"
   ]
  },
  {
   "cell_type": "markdown",
   "metadata": {
    "id": "9UF6Dz2o77Eb"
   },
   "source": [
    "Podemos adicionar essa informação na matriz $A_2$ que tínhamos:\n",
    "Uma terceira coluna que, se for igual a $-1$, temos que a imagem daquela linha representa um homem. Se for igual a $1$, a imagem daquela linha representa uma mulher"
   ]
  },
  {
   "cell_type": "code",
   "execution_count": null,
   "metadata": {
    "colab": {
     "base_uri": "https://localhost:8080/"
    },
    "id": "7VGe6o705a89",
    "outputId": "4626bde0-8a08-44cf-d191-f95478c20b24"
   },
   "outputs": [
    {
     "name": "stdout",
     "output_type": "stream",
     "text": [
      "[[ 2.51292035e+04 -3.27656415e+03 -1.00000000e+00]\n",
      " [ 2.53639461e+04 -9.72982019e+02  1.00000000e+00]\n",
      " [ 2.52506282e+04 -3.88872601e+03 -1.00000000e+00]\n",
      " [ 2.52813673e+04 -6.32242353e+02  1.00000000e+00]\n",
      " [ 2.50528484e+04 -3.32845354e+03 -1.00000000e+00]]\n"
     ]
    }
   ],
   "source": [
    "sexo = np.where(N < 0, -1, 1).reshape((160, 1))\n",
    "\n",
    "final = np.hstack([A_2, sexo])\n",
    "# printando apenas as 5 primeiras linhas/imagens\n",
    "print(final[:5, :])"
   ]
  }
 ],
 "metadata": {
  "colab": {
   "collapsed_sections": [],
   "provenance": []
  },
  "kernelspec": {
   "display_name": "Python 3.10.7 64-bit",
   "language": "python",
   "name": "python3"
  },
  "language_info": {
   "codemirror_mode": {
    "name": "ipython",
    "version": 3
   },
   "file_extension": ".py",
   "mimetype": "text/x-python",
   "name": "python",
   "nbconvert_exporter": "python",
   "pygments_lexer": "ipython3",
   "version": "3.10.7"
  },
  "vscode": {
   "interpreter": {
    "hash": "e7370f93d1d0cde622a1f8e1c04877d8463912d04d973331ad4851f04de6915a"
   }
  }
 },
 "nbformat": 4,
 "nbformat_minor": 4
}
